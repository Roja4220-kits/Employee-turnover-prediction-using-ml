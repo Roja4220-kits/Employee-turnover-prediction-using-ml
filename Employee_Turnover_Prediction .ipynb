
https://nbviewer.org/github/Roja4220-kits/Employee-turnover-prediction-using-ml/blob/main/Employee_Turnover_Prediction%20.ipynb
